{
 "cells": [
  {
   "cell_type": "markdown",
   "metadata": {},
   "source": [
    "# Read this in conjuction with my post on medium\n",
    "##"
   ]
  },
  {
   "cell_type": "code",
   "execution_count": 1,
   "metadata": {},
   "outputs": [],
   "source": [
    "# We will need whole bunch of libraries\n",
    "import numpy as np\n",
    "import pandas as pd\n",
    "import re\n",
    "import nltk\n",
    "from nltk.corpus import stopwords\n",
    "from nltk.tokenize import word_tokenize\n",
    "import multiprocessing\n",
    "from multiprocessing import Pool\n",
    "from multiprocessing import cpu_count\n",
    "import gensim\n",
    "from gensim.models.doc2vec import TaggedDocument\n",
    "import os\n",
    "import collections\n",
    "import smart_open\n",
    "import random"
   ]
  },
  {
   "cell_type": "markdown",
   "metadata": {},
   "source": [
    "# Pre-processing and Tokenization of data"
   ]
  },
  {
   "cell_type": "code",
   "execution_count": 2,
   "metadata": {},
   "outputs": [
    {
     "data": {
      "text/plain": [
       "(1619165, 11)"
      ]
     },
     "execution_count": 2,
     "metadata": {},
     "output_type": "execute_result"
    }
   ],
   "source": [
    "#Load file from modified raw data set\n",
    "df=pd.read_pickle(\"uniform.pkl\")\n",
    "# Check the size of the dataset\n",
    "df.shape"
   ]
  },
  {
   "cell_type": "code",
   "execution_count": 3,
   "metadata": {},
   "outputs": [],
   "source": [
    "# We have created a file prep2 containing functions to be used in multiprocessing code below\n",
    "# This is because of a bug in Jupyter that cause code to be stuck in an infinite loop, if these functions are build here.\n",
    "import prep2\n",
    "from nltk.stem import WordNetLemmatizer\n",
    "from nltk.corpus import wordnet\n",
    "%config IPCompleter.greedy=True\n",
    "# This part was needed as any changes to the function in prep2.py is not reflected without this.\n",
    "import importlib\n",
    "importlib.reload(prep2)\n",
    "import warnings\n",
    "warnings.filterwarnings('ignore')"
   ]
  },
  {
   "cell_type": "code",
   "execution_count": 4,
   "metadata": {},
   "outputs": [
    {
     "data": {
      "text/plain": [
       "0    2880115_1.0\n",
       "1    1300387_1.0\n",
       "2    4487515_1.0\n",
       "3    6588495_1.0\n",
       "4    3653311_1.0\n",
       "Name: token, dtype: object"
      ]
     },
     "execution_count": 4,
     "metadata": {},
     "output_type": "execute_result"
    }
   ],
   "source": [
    "# We will use this a document Id for Doc2vec tagging\n",
    "df['token']=  df[\"index\"].map(str)+\"_\" + df[\"overall\"].map(str)\n",
    "df['token'].head()"
   ]
  },
  {
   "cell_type": "code",
   "execution_count": 5,
   "metadata": {},
   "outputs": [],
   "source": [
    "# Some useful references on this:\n",
    "# https://praveenbezawada.com/2018/01/25/document-similarity-using-gensim-dec2vec/\n",
    "# https://github.com/RaRe-Technologies/gensim/blob/develop/docs/notebooks/doc2vec-lee.ipynb\n",
    "# https://github.com/RaRe-Technologies/gensim/blob/develop/docs/notebooks/doc2vec-IMDB.ipynb"
   ]
  },
  {
   "cell_type": "code",
   "execution_count": 6,
   "metadata": {},
   "outputs": [],
   "source": [
    "# Prepocessing and tokenizing the reviews.\n",
    "docs=df[['reviewText','token']]\n",
    "docs['TokenizedText']=prep2.parallelize(docs['reviewText'], prep2.word_func)"
   ]
  },
  {
   "cell_type": "markdown",
   "metadata": {},
   "source": [
    "# Building and Training Doc2vec models"
   ]
  },
  {
   "cell_type": "code",
   "execution_count": 7,
   "metadata": {},
   "outputs": [],
   "source": [
    "# Tokenized text are list in each cell of dataframe. \n",
    "# This is doc2vec software needs to convert elements in a column in a list and attach a tag to it\n",
    "# This was borrowed from here: https://praveenbezawada.com/2018/01/25/document-similarity-using-gensim-dec2vec/\n",
    "\n",
    "# Tagging the documents\n",
    "class TaggedDocumentIterator(object):\n",
    "    def __init__(self, doc_list, labels_list):\n",
    "        self.labels_list = labels_list\n",
    "        self.doc_list = doc_list\n",
    "    def __iter__(self):\n",
    "        for idx, doc in enumerate(self.doc_list):\n",
    "            yield TaggedDocument(words=doc, tags=[self.labels_list[idx]])\n",
    " \n",
    "docLabels = list(docs['token'])\n",
    "data = list(docs['TokenizedText'])\n",
    "sentences = TaggedDocumentIterator(data, docLabels)"
   ]
  },
  {
   "cell_type": "code",
   "execution_count": 8,
   "metadata": {},
   "outputs": [
    {
     "name": "stdout",
     "output_type": "stream",
     "text": [
      "Doc2Vec(dbow,d300,n5,mc2,t32) vocabulary scanned & state initialized\n",
      "Doc2Vec(\"alpha=0.05\",dm/m,d300,n5,w10,mc2,t32) vocabulary scanned & state initialized\n",
      "Wall time: 5min 48s\n"
     ]
    }
   ],
   "source": [
    "# This gives use two models one for DM and other for DBOW\n",
    "%time simple_models = prep2.doc_model(sentences)"
   ]
  },
  {
   "cell_type": "code",
   "execution_count": null,
   "metadata": {
    "scrolled": true
   },
   "outputs": [],
   "source": [
    "# Next two steps is training the models\n",
    "# This is DBOW\n",
    "import logging\n",
    "logging.basicConfig(format='%(asctime)s : %(levelname)s : %(message)s', level=logging.INFO)\n",
    "print(\"Training %s\" % simple_models[0])\n",
    "simple_models[0].train(sentences, total_examples=simple_models[0].corpus_count , epochs=15)"
   ]
  },
  {
   "cell_type": "code",
   "execution_count": null,
   "metadata": {},
   "outputs": [],
   "source": [
    "# This is DM\n",
    "logging.basicConfig(format='%(asctime)s : %(levelname)s : %(message)s', level=logging.INFO)\n",
    "print(\"Training %s\" % simple_models[1])\n",
    "simple_models[1].train(sentences, total_examples=simple_models[1].corpus_count , epochs=15)"
   ]
  },
  {
   "cell_type": "code",
   "execution_count": null,
   "metadata": {},
   "outputs": [],
   "source": [
    "simple_models[0].save('DBOW.doc2vec')\n",
    "simple_models[1].save('DM.doc2vec')"
   ]
  },
  {
   "cell_type": "markdown",
   "metadata": {},
   "source": [
    "# Testing it out"
   ]
  },
  {
   "cell_type": "code",
   "execution_count": 88,
   "metadata": {},
   "outputs": [],
   "source": [
    "#I picked a random review having 4 star ratings:\n",
    "\n",
    "Amazon_Book_Review=''' Having just finished Hilary Mantel's Wolf Hall, I was interested in learning a bit more about \n",
    "Thomas Wolsey, Thomas Cromwell's mentor and one of the first victims of Henry VIII's ceaseless and bloody desire \n",
    "to find the perfect wife. Cavendish was Wolsey's \"gentleman usher\" and undoubtedly knew the man very well. \n",
    "His loyalty to the cardinal is clearly demonstrated in that this biography is less a history and more a berating \n",
    "of those who he sees as bring about Wolsey's downfall, but it's still a fascinating bit of insight into the workings \n",
    "of the court at a time when the Catholic Church and Henry's libido were at odds. Note that this is clearly a photocopy \n",
    "of a printed book (given as a prize for music from St. Michael's College in Toronoto in 1906, based on the note in the front) \n",
    "and as such doesn't support increasing font sizes and the like. For that, I'm dinging this review a star. '''"
   ]
  },
  {
   "cell_type": "code",
   "execution_count": 91,
   "metadata": {},
   "outputs": [
    {
     "data": {
      "text/html": [
       "<div>\n",
       "<style scoped>\n",
       "    .dataframe tbody tr th:only-of-type {\n",
       "        vertical-align: middle;\n",
       "    }\n",
       "\n",
       "    .dataframe tbody tr th {\n",
       "        vertical-align: top;\n",
       "    }\n",
       "\n",
       "    .dataframe thead th {\n",
       "        text-align: right;\n",
       "    }\n",
       "</style>\n",
       "<table border=\"1\" class=\"dataframe\">\n",
       "  <thead>\n",
       "    <tr style=\"text-align: right;\">\n",
       "      <th></th>\n",
       "      <th>reviewText</th>\n",
       "      <th>overall</th>\n",
       "      <th>sentiment</th>\n",
       "      <th>token</th>\n",
       "      <th>sim_score</th>\n",
       "    </tr>\n",
       "  </thead>\n",
       "  <tbody>\n",
       "    <tr>\n",
       "      <th>9</th>\n",
       "      <td>Jennifer Chiaverini continues her quest to be known as more than the author of the Elm Creek Quilt novels, which was truly a wonderful series. I truly enjoyed her first book about historic women in history, Mrs. Lincoln&amp;#8217;s Dressmaker. The Spymistress missed the mark with me a bit as it read in places more like a history textbook instead of fiction. In Mrs. Lincoln&amp;#8217;s Rival she pulls back on the history book feel and gives the story a more fictional feel. But it just didn&amp;#8217;t hit the heights of Mrs. Lincoln&amp;#8217;s Dressmaker.These women of history are ones that are not as well known and it was very interesting getting to know Kate Chase Sprague but while there was a bit of tension between her and Mrs. Lincoln I wouldn&amp;#8217;t call it a rivalry. Kate Chase was her father&amp;#8217;s right hand during his pursuit to become President and while he was Secretary of the Treasury.  She was very savvy and smart and knew how to garner favor and make the right connections. Her own endeavor to become First Lady whether it be with her father as President or as the wife of the &amp;#8220;Boy Governor&amp;#8221; from Rhode Island was so strong she made some interesting decisions. I also found her to be very spoiled and demanding that rings just a little wrong for the time period, but I know the author researches these women intensively. She tries very hard to stick to the facts and not overly embellish but at times it comes across as just a bit dry and this reader wanting more. I get the feeling the marriage between Kate and William was quite volatile and more details on that could have really turned this story on its ear.The Civil War was a terrible time in history but in ways it correlates to the division in our country today, thankfully without the bloodshed on American soil. I found some of the actions taken by Congress and President Lincoln depicted in this book very telling in the ways history repeats itself.  Sometimes it is easier to see when the situations are fictionalized but based on facts.If Chiaverini continues this road of writing about historic women I know she will hit the right balance between the fact and the fiction because she is an excellent writer.  I am anxious to see who she will choose for her next subject. All three of these books were educational. I encourage the author not to be afraid of being a little more creative in her storytelling. They are fiction and readers are comfortable with the facts being muddied a bit to give the story a more natural flow.</td>\n",
       "      <td>4.0</td>\n",
       "      <td>Positive</td>\n",
       "      <td>2850616_4.0</td>\n",
       "      <td>0.327776</td>\n",
       "    </tr>\n",
       "    <tr>\n",
       "      <th>3</th>\n",
       "      <td>Thomas Cromwell, the villain of A Man for All Seasons, is the protagonist of this historical novel set around the rise of Anne Boleyn. A devoted assistant of Cardinal Wolsey, he nevertheless survives the cardinal's fall and rises to become one of the king's closest advisors, advancing the Anne Boleyn marriage while working behind the scenes for the rise of Protestantism. He remains first and foremost a practical man, equally uncomprehending of fanatics of both Catholic and Protestant stripes. Naturally, as he rises he attracts enemies, but at home, a passel of young people and servants are devoted to him.I found the novel terribly dry, but somehow compelling. The reader is held at arm's length, understanding Cromwell much more through his actions and conversations than his thoughts, into which the reader is rarely invited. The cast of characters is truly bewildering, but clear portraits emerge of a few big names, most notably the royal family and Thomas More, portrayed here as cold and sanctimonious--wearing a hair shirt, humiliating his wife, taking financial advantage of his wards. Henry appears as immature and petulant, perpetually self-centered. Among the bit players, many blur together, though Mary Boleyn stands out--jealous and grasping, yet somehow appealing in her openness. Not for the easily bored, this is a long, dense novel and much more about political machinations than the emotions and motivations of actual people. Adding further difficulties, the author insists on always referring to Cromwell as \"he,\" even when another \"he\" is present and even when the two are easily confused. Already not a fast read, the novel slows the reader down further by requiring one to repeatedly pause and tease out who said what. I finished the novel, but do not plan to look for the sequel Mantel is reportedly writing. In summation, I can see that this is a \"good book,\" but I didn't have any fun reading it.</td>\n",
       "      <td>3.0</td>\n",
       "      <td>Neutral</td>\n",
       "      <td>21265_3.0</td>\n",
       "      <td>0.325873</td>\n",
       "    </tr>\n",
       "    <tr>\n",
       "      <th>4</th>\n",
       "      <td>I really enjoy historical fiction, particularly about the Boleyn/Henry VIII era.  This book was a bit too detailed, a bit too wordy, sometimes felt a little disjointed and hard to follow.  It was, however, interesting to learn a bit more about Thomas Cromwell.  The author had a very sympathetic view of him, which has been debated in other texts.</td>\n",
       "      <td>3.0</td>\n",
       "      <td>Neutral</td>\n",
       "      <td>21102_3.0</td>\n",
       "      <td>0.317522</td>\n",
       "    </tr>\n",
       "    <tr>\n",
       "      <th>8</th>\n",
       "      <td>I am rating this a four star book with one caveat- this is for the Tudor history enthusiast.  Reading this book requires a fairly strong background in tudor history, particularly concerning the Anne Boleyn saga.  With this knowledge, this book provides a very detailed account of Henry's attempt to secure a divorce from Catherine of Aragon and provides much insight of the workings of the world of the renaissance ambassador to the papal court.  Without this knowledge, this would be a confusing array of names without context.I was very familiar with the English side of the divorce but my knowledge of what happened at the papal court was reduced to -Pope Clement was in an undesirable position because Rome had just been sacked by the Holy Roman Emperor, Charles V, who was the nephew of Catherine of Aragon.  This book provided the back story to the sack of Rome and the political maneuvering that occurred as Henry's professional diplomats tried to secure the support of the various cardinals and Universities whose support was vital to convincing the pope to grant a divorce.  Why didn't pope Clement VII not just defy Charles and give the divorce?  I truly did not understand how difficult Clement's position was and how weakened he was by Charles. This book also  provides much detail on the working of the Renaissance diplomat and how they functioned within the papal court.The writing is fairly detailed but flowed well.  Overall, I would recommend.</td>\n",
       "      <td>4.0</td>\n",
       "      <td>Positive</td>\n",
       "      <td>857347_4.0</td>\n",
       "      <td>0.314405</td>\n",
       "    </tr>\n",
       "    <tr>\n",
       "      <th>7</th>\n",
       "      <td>I'm sure that \"The Nelson Touch\" deserves a better rating than I gave it. The biography provided a very detaild examination of the life, and to a degree the times, of Admiral Horation Nelson, the 18th Century's preeminent naval strategist and naval leader, the hero of  the Battle of Trafalgar who led the British Navy's forces of 28 ships in defeating a larger combined French and Spanish fleet. The problem I had with the book was that it is overly detailed for my purposes.  Perhaps if I was a student of British history -- particularly British naval warfare of the late 18th and early 19th Centuries -- and had a more abiding interest and familiarity with the history of those remarkable times, I would have had a greater interest in the subject matter.  In any case, I don't want to discourage anyone from reading this otherwise well writter and very, very detailed biography.</td>\n",
       "      <td>3.0</td>\n",
       "      <td>Neutral</td>\n",
       "      <td>828086_3.0</td>\n",
       "      <td>0.314083</td>\n",
       "    </tr>\n",
       "    <tr>\n",
       "      <th>6</th>\n",
       "      <td>While I trust the other reviews that this is a thorough biography,and I am finding it interesting in general, I do find the writing a bit dry.  Perhaps too much minutiae - well, at least for me.  My hope is to finish it, but I have only got to page 45 after well over a week since I checked it out of the library.  I recently read a biography of Beethoven and couldn't wait to pick it up every chance I got.  Mozart is every bit as compelling a subject, but the writing in this has kept me from having that same experience with this book.</td>\n",
       "      <td>3.0</td>\n",
       "      <td>Neutral</td>\n",
       "      <td>853933_3.0</td>\n",
       "      <td>0.306788</td>\n",
       "    </tr>\n",
       "    <tr>\n",
       "      <th>2</th>\n",
       "      <td>Although I got this book for the history I didn't get it finsihed.  So my rating is not up to speed on this book</td>\n",
       "      <td>3.0</td>\n",
       "      <td>Neutral</td>\n",
       "      <td>6866327_3.0</td>\n",
       "      <td>0.305767</td>\n",
       "    </tr>\n",
       "    <tr>\n",
       "      <th>0</th>\n",
       "      <td>This is fine if you're working for Victoria Secret but that's about it. I gave it to my wife who wasn't interested in it at all. No pic's, more a less a what's right for you book.</td>\n",
       "      <td>1.0</td>\n",
       "      <td>Negative</td>\n",
       "      <td>1823174_1.0</td>\n",
       "      <td>0.303733</td>\n",
       "    </tr>\n",
       "    <tr>\n",
       "      <th>5</th>\n",
       "      <td>This is a &amp;quot;more approachable&amp;quot; version of Meyendorff's larger and more scholarly tome on St. Palamas, which remains to this day the definitive work on the monk.  This shorter version includes numerous  photographs and a good level of background/historical detail.  Those with a  general (non-scholarly) interest in learning more about Gregory Palamas  will find it especially convenient; though it will fail to satisfy those  with a desire for in-depth academic information.</td>\n",
       "      <td>3.0</td>\n",
       "      <td>Neutral</td>\n",
       "      <td>4096287_3.0</td>\n",
       "      <td>0.301437</td>\n",
       "    </tr>\n",
       "    <tr>\n",
       "      <th>1</th>\n",
       "      <td>Billed as a tell all about recording with MJ but there's not a whole lot about MJ in the book. The focus is very much on Bruce Swedien and how great his wife and dog are. It's obvious it was written before Michael's death and then released after his death to cash in on the publicity. It's the same repetitive info and the writing and editing are poor. It will be of interest to recording engineers and a bit to the most ardent MJ fans. It's a shame it wasn't edited better and the focus wasn't a bit more on The King.</td>\n",
       "      <td>2.0</td>\n",
       "      <td>Negative</td>\n",
       "      <td>5194081_2.0</td>\n",
       "      <td>0.297521</td>\n",
       "    </tr>\n",
       "  </tbody>\n",
       "</table>\n",
       "</div>"
      ],
      "text/plain": [
       "                                                                                                                                                                                                                                                                                                                                                                                                                                                                                                                                                                                                                                                                                                                                                                                                                                                                                                                                                                                                                                                                                                                                                                                                                                                                                                                                                                                                                                                                                                                                                                                                                                                                                                                                                                                                                                                                                                                                                                                                                                                                                                                                                                                                                                                                                                                                                                                                                                                                                                                                                                                                            reviewText  \\\n",
       "9  Jennifer Chiaverini continues her quest to be known as more than the author of the Elm Creek Quilt novels, which was truly a wonderful series. I truly enjoyed her first book about historic women in history, Mrs. Lincoln&#8217;s Dressmaker. The Spymistress missed the mark with me a bit as it read in places more like a history textbook instead of fiction. In Mrs. Lincoln&#8217;s Rival she pulls back on the history book feel and gives the story a more fictional feel. But it just didn&#8217;t hit the heights of Mrs. Lincoln&#8217;s Dressmaker.These women of history are ones that are not as well known and it was very interesting getting to know Kate Chase Sprague but while there was a bit of tension between her and Mrs. Lincoln I wouldn&#8217;t call it a rivalry. Kate Chase was her father&#8217;s right hand during his pursuit to become President and while he was Secretary of the Treasury.  She was very savvy and smart and knew how to garner favor and make the right connections. Her own endeavor to become First Lady whether it be with her father as President or as the wife of the &#8220;Boy Governor&#8221; from Rhode Island was so strong she made some interesting decisions. I also found her to be very spoiled and demanding that rings just a little wrong for the time period, but I know the author researches these women intensively. She tries very hard to stick to the facts and not overly embellish but at times it comes across as just a bit dry and this reader wanting more. I get the feeling the marriage between Kate and William was quite volatile and more details on that could have really turned this story on its ear.The Civil War was a terrible time in history but in ways it correlates to the division in our country today, thankfully without the bloodshed on American soil. I found some of the actions taken by Congress and President Lincoln depicted in this book very telling in the ways history repeats itself.  Sometimes it is easier to see when the situations are fictionalized but based on facts.If Chiaverini continues this road of writing about historic women I know she will hit the right balance between the fact and the fiction because she is an excellent writer.  I am anxious to see who she will choose for her next subject. All three of these books were educational. I encourage the author not to be afraid of being a little more creative in her storytelling. They are fiction and readers are comfortable with the facts being muddied a bit to give the story a more natural flow.   \n",
       "3  Thomas Cromwell, the villain of A Man for All Seasons, is the protagonist of this historical novel set around the rise of Anne Boleyn. A devoted assistant of Cardinal Wolsey, he nevertheless survives the cardinal's fall and rises to become one of the king's closest advisors, advancing the Anne Boleyn marriage while working behind the scenes for the rise of Protestantism. He remains first and foremost a practical man, equally uncomprehending of fanatics of both Catholic and Protestant stripes. Naturally, as he rises he attracts enemies, but at home, a passel of young people and servants are devoted to him.I found the novel terribly dry, but somehow compelling. The reader is held at arm's length, understanding Cromwell much more through his actions and conversations than his thoughts, into which the reader is rarely invited. The cast of characters is truly bewildering, but clear portraits emerge of a few big names, most notably the royal family and Thomas More, portrayed here as cold and sanctimonious--wearing a hair shirt, humiliating his wife, taking financial advantage of his wards. Henry appears as immature and petulant, perpetually self-centered. Among the bit players, many blur together, though Mary Boleyn stands out--jealous and grasping, yet somehow appealing in her openness. Not for the easily bored, this is a long, dense novel and much more about political machinations than the emotions and motivations of actual people. Adding further difficulties, the author insists on always referring to Cromwell as \"he,\" even when another \"he\" is present and even when the two are easily confused. Already not a fast read, the novel slows the reader down further by requiring one to repeatedly pause and tease out who said what. I finished the novel, but do not plan to look for the sequel Mantel is reportedly writing. In summation, I can see that this is a \"good book,\" but I didn't have any fun reading it.                                                                                                                                                                                                                                                                                                                                                                                                                                                                                                                                                                                                             \n",
       "4  I really enjoy historical fiction, particularly about the Boleyn/Henry VIII era.  This book was a bit too detailed, a bit too wordy, sometimes felt a little disjointed and hard to follow.  It was, however, interesting to learn a bit more about Thomas Cromwell.  The author had a very sympathetic view of him, which has been debated in other texts.                                                                                                                                                                                                                                                                                                                                                                                                                                                                                                                                                                                                                                                                                                                                                                                                                                                                                                                                                                                                                                                                                                                                                                                                                                                                                                                                                                                                                                                                                                                                                                                                                                                                                                                                                                                                                                                                                                                                                                                                                                                                                                                                                                                                                                                           \n",
       "8  I am rating this a four star book with one caveat- this is for the Tudor history enthusiast.  Reading this book requires a fairly strong background in tudor history, particularly concerning the Anne Boleyn saga.  With this knowledge, this book provides a very detailed account of Henry's attempt to secure a divorce from Catherine of Aragon and provides much insight of the workings of the world of the renaissance ambassador to the papal court.  Without this knowledge, this would be a confusing array of names without context.I was very familiar with the English side of the divorce but my knowledge of what happened at the papal court was reduced to -Pope Clement was in an undesirable position because Rome had just been sacked by the Holy Roman Emperor, Charles V, who was the nephew of Catherine of Aragon.  This book provided the back story to the sack of Rome and the political maneuvering that occurred as Henry's professional diplomats tried to secure the support of the various cardinals and Universities whose support was vital to convincing the pope to grant a divorce.  Why didn't pope Clement VII not just defy Charles and give the divorce?  I truly did not understand how difficult Clement's position was and how weakened he was by Charles. This book also  provides much detail on the working of the Renaissance diplomat and how they functioned within the papal court.The writing is fairly detailed but flowed well.  Overall, I would recommend.                                                                                                                                                                                                                                                                                                                                                                                                                                                                                                                                                                                                                                                                                                                                                                                                                                                                                                                                                                                                                                                                                                  \n",
       "7  I'm sure that \"The Nelson Touch\" deserves a better rating than I gave it. The biography provided a very detaild examination of the life, and to a degree the times, of Admiral Horation Nelson, the 18th Century's preeminent naval strategist and naval leader, the hero of  the Battle of Trafalgar who led the British Navy's forces of 28 ships in defeating a larger combined French and Spanish fleet. The problem I had with the book was that it is overly detailed for my purposes.  Perhaps if I was a student of British history -- particularly British naval warfare of the late 18th and early 19th Centuries -- and had a more abiding interest and familiarity with the history of those remarkable times, I would have had a greater interest in the subject matter.  In any case, I don't want to discourage anyone from reading this otherwise well writter and very, very detailed biography.                                                                                                                                                                                                                                                                                                                                                                                                                                                                                                                                                                                                                                                                                                                                                                                                                                                                                                                                                                                                                                                                                                                                                                                                                                                                                                                                                                                                                                                                                                                                                                                                                                                                                                     \n",
       "6  While I trust the other reviews that this is a thorough biography,and I am finding it interesting in general, I do find the writing a bit dry.  Perhaps too much minutiae - well, at least for me.  My hope is to finish it, but I have only got to page 45 after well over a week since I checked it out of the library.  I recently read a biography of Beethoven and couldn't wait to pick it up every chance I got.  Mozart is every bit as compelling a subject, but the writing in this has kept me from having that same experience with this book.                                                                                                                                                                                                                                                                                                                                                                                                                                                                                                                                                                                                                                                                                                                                                                                                                                                                                                                                                                                                                                                                                                                                                                                                                                                                                                                                                                                                                                                                                                                                                                                                                                                                                                                                                                                                                                                                                                                                                                                                                                                            \n",
       "2  Although I got this book for the history I didn't get it finsihed.  So my rating is not up to speed on this book                                                                                                                                                                                                                                                                                                                                                                                                                                                                                                                                                                                                                                                                                                                                                                                                                                                                                                                                                                                                                                                                                                                                                                                                                                                                                                                                                                                                                                                                                                                                                                                                                                                                                                                                                                                                                                                                                                                                                                                                                                                                                                                                                                                                                                                                                                                                                                                                                                                                                                      \n",
       "0  This is fine if you're working for Victoria Secret but that's about it. I gave it to my wife who wasn't interested in it at all. No pic's, more a less a what's right for you book.                                                                                                                                                                                                                                                                                                                                                                                                                                                                                                                                                                                                                                                                                                                                                                                                                                                                                                                                                                                                                                                                                                                                                                                                                                                                                                                                                                                                                                                                                                                                                                                                                                                                                                                                                                                                                                                                                                                                                                                                                                                                                                                                                                                                                                                                                                                                                                                                                                   \n",
       "5  This is a &quot;more approachable&quot; version of Meyendorff's larger and more scholarly tome on St. Palamas, which remains to this day the definitive work on the monk.  This shorter version includes numerous  photographs and a good level of background/historical detail.  Those with a  general (non-scholarly) interest in learning more about Gregory Palamas  will find it especially convenient; though it will fail to satisfy those  with a desire for in-depth academic information.                                                                                                                                                                                                                                                                                                                                                                                                                                                                                                                                                                                                                                                                                                                                                                                                                                                                                                                                                                                                                                                                                                                                                                                                                                                                                                                                                                                                                                                                                                                                                                                                                                                                                                                                                                                                                                                                                                                                                                                                                                                                                                                   \n",
       "1  Billed as a tell all about recording with MJ but there's not a whole lot about MJ in the book. The focus is very much on Bruce Swedien and how great his wife and dog are. It's obvious it was written before Michael's death and then released after his death to cash in on the publicity. It's the same repetitive info and the writing and editing are poor. It will be of interest to recording engineers and a bit to the most ardent MJ fans. It's a shame it wasn't edited better and the focus wasn't a bit more on The King.                                                                                                                                                                                                                                                                                                                                                                                                                                                                                                                                                                                                                                                                                                                                                                                                                                                                                                                                                                                                                                                                                                                                                                                                                                                                                                                                                                                                                                                                                                                                                                                                                                                                                                                                                                                                                                                                                                                                                                                                                                                                                \n",
       "\n",
       "   overall sentiment        token  sim_score  \n",
       "9  4.0      Positive  2850616_4.0  0.327776   \n",
       "3  3.0      Neutral   21265_3.0    0.325873   \n",
       "4  3.0      Neutral   21102_3.0    0.317522   \n",
       "8  4.0      Positive  857347_4.0   0.314405   \n",
       "7  3.0      Neutral   828086_3.0   0.314083   \n",
       "6  3.0      Neutral   853933_3.0   0.306788   \n",
       "2  3.0      Neutral   6866327_3.0  0.305767   \n",
       "0  1.0      Negative  1823174_1.0  0.303733   \n",
       "5  3.0      Neutral   4096287_3.0  0.301437   \n",
       "1  2.0      Negative  5194081_2.0  0.297521   "
      ]
     },
     "execution_count": 91,
     "metadata": {},
     "output_type": "execute_result"
    }
   ],
   "source": [
    "# Some processing to get text and ratings from the tags.\n",
    "sim=prep2.my_predict(Amazon_Book_Review,simple_models[1])\n",
    "simdf= pd.DataFrame(sim, columns=['token','sim_score'])\n",
    "pd.set_option('display.max_colwidth', 0)\n",
    "results= pd.merge(df[['reviewText','overall','sentiment','token']],simdf, on='token', how='inner')\n",
    "results.sort_values(by=['sim_score'], ascending=False)\n",
    "\n",
    "# Note how beautifully it delivered the most similar document talking about history , marriages and people in power. \n",
    "# And the ratings are also the same."
   ]
  },
  {
   "cell_type": "code",
   "execution_count": null,
   "metadata": {},
   "outputs": [],
   "source": []
  }
 ],
 "metadata": {
  "kernelspec": {
   "display_name": "Python 3",
   "language": "python",
   "name": "python3"
  },
  "language_info": {
   "codemirror_mode": {
    "name": "ipython",
    "version": 3
   },
   "file_extension": ".py",
   "mimetype": "text/x-python",
   "name": "python",
   "nbconvert_exporter": "python",
   "pygments_lexer": "ipython3",
   "version": "3.7.1"
  }
 },
 "nbformat": 4,
 "nbformat_minor": 2
}
